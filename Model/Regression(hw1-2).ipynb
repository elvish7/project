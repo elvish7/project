{
 "cells": [
  {
   "cell_type": "code",
   "execution_count": 31,
   "metadata": {},
   "outputs": [
    {
     "name": "stdout",
     "output_type": "stream",
     "text": [
      "m=0.9636363636363636 b=0.3636363636363642\n"
     ]
    }
   ],
   "source": [
    "# hw1\n",
    "x = range(10)\n",
    "y = [1, 1, 3, 3, 3, 6, 5, 7, 8, 10]\n",
    "\n",
    "\n",
    "def closed_form(x,y):\n",
    "    s1 = 0\n",
    "    s2 = 0\n",
    "    meanx = sum(x)/len(x)\n",
    "    meany = sum(y)/len(y)\n",
    "    \n",
    "    for i in range(len(x)):\n",
    "        s1 += (x[i]-meanx)*(y[i]-meany)\n",
    "        s2 += (x[i]-meanx)**2\n",
    "    \n",
    "    m = s1/s2\n",
    "    b = meany - m*meanx\n",
    "    print(\"m=\"+str(m)+\" b=\"+str(b))\n",
    "\n",
    "closed_form(x,y) "
   ]
  },
  {
   "cell_type": "code",
   "execution_count": 50,
   "metadata": {},
   "outputs": [
    {
     "name": "stdout",
     "output_type": "stream",
     "text": [
      "0.963751351028384 0.36291532532376714\n"
     ]
    }
   ],
   "source": [
    "# hw2\n",
    "import numpy as np\n",
    "\n",
    "x = np.array(range(10))\n",
    "y = np.array([1, 1, 3, 3, 3, 6, 5, 7, 8, 10])\n",
    "\n",
    "def gradient_des(x,y):\n",
    "    \n",
    "    l = 0.001 #learning rate\n",
    "    a = 0.1 #to stop\n",
    "    n = float(len(x))  \n",
    "    k = 10000\n",
    "    cur_m = 0\n",
    "    cur_b = 0\n",
    "    \n",
    "    for i in range(k):\n",
    "        cur_y = cur_m*x +cur_b\n",
    "        de_m = (-2/n) * sum(x * (y-cur_y))\n",
    "        de_b = (-2/n) * sum(y - cur_y)\n",
    "        #if (cur_m - l * de_m) - cur_m < a and cur_m != 0:\n",
    "            #break\n",
    "\n",
    "        cur_m = cur_m - l * de_m\n",
    "        cur_b = cur_b - l * de_b\n",
    "        \n",
    "    print(cur_m,cur_b)\n",
    "\n",
    "gradient_des(x,y)"
   ]
  },
  {
   "cell_type": "code",
   "execution_count": null,
   "metadata": {},
   "outputs": [],
   "source": []
  }
 ],
 "metadata": {
  "kernelspec": {
   "display_name": "Python 3",
   "language": "python",
   "name": "python3"
  },
  "language_info": {
   "codemirror_mode": {
    "name": "ipython",
    "version": 3
   },
   "file_extension": ".py",
   "mimetype": "text/x-python",
   "name": "python",
   "nbconvert_exporter": "python",
   "pygments_lexer": "ipython3",
   "version": "3.7.3"
  }
 },
 "nbformat": 4,
 "nbformat_minor": 2
}
